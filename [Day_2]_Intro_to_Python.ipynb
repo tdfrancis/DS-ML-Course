{
  "cells": [
    {
      "cell_type": "markdown",
      "metadata": {
        "id": "view-in-github",
        "colab_type": "text"
      },
      "source": [
        "<a href=\"https://colab.research.google.com/github/tdfrancis/DS-ML-Course/blob/main/%5BDay_2%5D_Intro_to_Python.ipynb\" target=\"_parent\"><img src=\"https://colab.research.google.com/assets/colab-badge.svg\" alt=\"Open In Colab\"/></a>"
      ]
    },
    {
      "cell_type": "markdown",
      "metadata": {
        "id": "tI4L3DOEI42F"
      },
      "source": [
        "<div id=\"container\" style=\"position:relative;\">\n",
        "<div style=\"float:left\"><h1> Intro to Python </h1></div>\n"
      ]
    },
    {
      "cell_type": "markdown",
      "metadata": {
        "id": "FoO7-1KLFiqa"
      },
      "source": [
        "# Learning Outcomes\n",
        "\n",
        "- Develop familiarity with Colab.\n",
        "- Understand and perform basic mathematical operations and work with different data types.\n",
        "- Master the creation and use of variables in Python.\n",
        "- Dive into Python's data structures: lists and dictionaries.\n",
        "- Navigate through control flows and loops.\n",
        "- Learn how to define and implement functions in Python."
      ]
    },
    {
      "cell_type": "markdown",
      "metadata": {
        "id": "WnpVQCx6YbKz"
      },
      "source": [
        "Table of Contents\n",
        "=================\n",
        "\n",
        "1. [Lesson Introduction](#Lesson-Introduction)\n",
        "2. [Colab Notebooks](#Colab-Notebook)\n",
        "3. [Working With a Notebook](#Working-With-a-Notebook)\n",
        "   - [Python 2 vs Python 3](#Python-2-vs-Python-3)\n",
        "4. [Python as a Calculator](#Python-as-a-Calculator)\n",
        "   - [Variables in Python](#Variables-in-Python)\n",
        "5. [Lists](#Lists)\n",
        "   - [Indexing in Lists](#Indexing-in-Lists)\n",
        "     + [0 vs 1 indexing](#0-vs-1-indexing)\n",
        "   - [Slicing list elements](#Slicing-list-elements)\n",
        "   - [Replacing and adding list elements](#Replacing-and-adding-list-elements)\n",
        "   - [List sorting](#List-sorting)\n",
        "6. [Mutability](#Mutability)\n",
        "7. [Dictionaries](#Dictionaries)\n",
        "   - [Updating key values, adding new key values](#Updating-key-values,-adding-new-key-values)\n",
        "8. [Looping](#Looping)\n",
        "   - [Range](#Range)\n",
        "9. [Conditionals](#Conditionals)\n",
        "10. [Functions](#Functions)\n",
        "   - [Scoping](#Scoping)\n",
        "11. [Key Takeaways](#Key-Takeaways)\n",
        "12. [Next Up](#Next-Up)\n",
        "13. [Assignment 1](#Assignment-1)"
      ]
    },
    {
      "cell_type": "markdown",
      "metadata": {
        "id": "YgLlNRa5YbK0"
      },
      "source": [
        "# Lesson Introduction\n",
        "\n",
        "In this lesson, we will explore Python, a widely used language in Data Science for processing large datasets—collecting, transforming, and analyzing data to turn raw information into insights. Python is also essential for building Machine Learning models and has become an industry standard among data professionals due to its extensive libraries, scalability, and ease of use.\n",
        "We will explore how various data structures, types and functions can be created in Python for working with tabular data, that will also help us automate data processing in the future.\n"
      ]
    },
    {
      "cell_type": "markdown",
      "metadata": {
        "id": "cutiuC5qghVN"
      },
      "source": [
        "# Colab Notebook"
      ]
    },
    {
      "cell_type": "markdown",
      "metadata": {
        "id": "eUhtg6it-iZc"
      },
      "source": [
        "Welcome to your first Colab Notebook in this course. Colab Notebook is an interactive web application for creating and sharing coding documents- simular to Jupyter Notebook. It is a fully open-source product, and users can use all functionality available for free.\n",
        "\n",
        "Since 2014 notebook has become one of the most popular platforms for Data Science projects. They can be executed both locally on your machine and in cloud-based environments, providing access to powerful computational resources. Most major machine learning and cloud service providers, such as Jupyter Notebook, Amazon SageMaker, Databricks, and Snowflake have built their data science tooling around notebook interfaces. These platforms support the creation of multi-notebook workflows, which allows for modular coding and enhance productivity and collaboration.\n",
        "\n",
        "\n",
        "\n",
        "\n",
        "Notebooks can contain text (like this), code:"
      ]
    },
    {
      "cell_type": "code",
      "execution_count": null,
      "metadata": {
        "colab": {
          "base_uri": "https://localhost:8080/"
        },
        "id": "qSNO60S7-iZe",
        "outputId": "28cac53f-1c8a-447f-d186-625491b2a5c5"
      },
      "outputs": [
        {
          "output_type": "stream",
          "name": "stdout",
          "text": [
            "like this\n"
          ]
        }
      ],
      "source": [
        "print('like this')"
      ]
    },
    {
      "cell_type": "markdown",
      "metadata": {
        "id": "X2Xsb0vQ-iZi"
      },
      "source": [
        "Formulas:\n",
        "\n",
        "$$ \\mu = \\frac{1}{n}\\sum_{i=1}^na_i $$\n",
        "\n",
        "and images:"
      ]
    },
    {
      "cell_type": "code",
      "execution_count": null,
      "metadata": {
        "colab": {
          "base_uri": "https://localhost:8080/",
          "height": 466
        },
        "id": "njWFdgfq-iZi",
        "outputId": "433cf985-3758-4143-d2ca-7ebcfb60c098"
      },
      "outputs": [
        {
          "output_type": "execute_result",
          "data": {
            "text/plain": [
              "Text(0, 0.5, 'position')"
            ]
          },
          "metadata": {},
          "execution_count": 34
        },
        {
          "output_type": "display_data",
          "data": {
            "text/plain": [
              "<Figure size 640x480 with 1 Axes>"
            ],
            "image/png": "[encoded data removed]"
          },
          "metadata": {}
        }
      ],
      "source": [
        "import numpy as np\n",
        "import matplotlib.pyplot as plt\n",
        "\n",
        "steps, repeats = 100, 10\n",
        "stepstaken = 0.01 * np.random.randn(steps, repeats)\n",
        "positions = stepstaken.cumsum(axis=0)\n",
        "plt.plot(positions)\n",
        "plt.xlabel('time')\n",
        "plt.ylabel('position')"
      ]
    },
    {
      "cell_type": "markdown",
      "metadata": {
        "id": "ArcQZENL-iZl"
      },
      "source": [
        "This combination allows notebooks to be used for self-contained reports and as an analysis tool in a range of fields.\n",
        "\n",
        "Let's dive a little deeper into how Notebooks work.\n",
        "\n",
        "You can double click in any text cell and see the source. We use a flavor of markdown (a lightweight language that is used to structure text) - [see the cheatsheet here](https://github.com/adam-p/markdown-here/wiki/Markdown-Cheatsheet) for a good rundown of the common syntax. 🔗"
      ]
    },
    {
      "cell_type": "markdown",
      "metadata": {
        "id": "unm3Ou4ZI42M"
      },
      "source": [
        "### Working With a Notebook\n",
        "\n",
        "Once we enter content into a cell, we need to execute it- either render the content or execute the code.\n",
        "\n",
        "_For Windows users_: Hold down the `control` key and push `enter`, or use `alt` + `enter` to run the cell and select the cell below after execution.\n",
        "\n",
        "_For Mac users_: Use `control` + `enter` to run the cell, or use `shift`+`enter` to run the cell and select the cell below after execution.\n",
        "\n",
        "In the top menu we can see the standard 'File' and 'Edit' methods to save, undo, view etc. Beyond this, we also have a 'Kernel' menu. The kernel is what runs our code.\n",
        "\n",
        "Using the Kernel menu is useful for restarting the Python kernel if we made an error in the code where we'd like to stop the code from executing. The kernel menus is also useful for executing our entire Notebook, rather than individual code blocks.\n",
        "\n",
        "Please take some time to familiarize yourself with the interface."
      ]
    },
    {
      "cell_type": "code",
      "execution_count": null,
      "metadata": {
        "id": "LiCoFAIz-iZn"
      },
      "outputs": [],
      "source": [
        "# import this\n",
        "# import antigravity"
      ]
    },
    {
      "cell_type": "markdown",
      "metadata": {
        "id": "O-Q8prxLI42N"
      },
      "source": [
        "### Python 2 vs Python 3\n",
        "\n",
        "In this course, we will use Python 3.x. There is an ongoing controversy in the Python community over the introduction of python 3.x - the handling of strings and files changed considerably along with some other minor changes (print, range, and iterators). Python 2.7 was the 'last' version of Python under the 2.x star.\n",
        "\n",
        "Originally slated to be retired in 2015, Python 2.7 was kept alive until 2020 and is now retired."
      ]
    },
    {
      "cell_type": "markdown",
      "metadata": {
        "id": "HdGI8fQp-iZq"
      },
      "source": [
        "### Live Coding\n",
        "\n",
        "Much of this course will be taught using live coding where you will code-along with your instructor during the lessons. This will help improve the pace of instruction, demonstrate how real coding works, allow for the application of core concepts, and help to reinforce your understanding of the material."
      ]
    },
    {
      "cell_type": "markdown",
      "metadata": {
        "id": "hczLpyDV-iZr"
      },
      "source": [
        "### Python as a Calculator"
      ]
    },
    {
      "cell_type": "code",
      "execution_count": null,
      "metadata": {
        "colab": {
          "base_uri": "https://localhost:8080/"
        },
        "id": "x-YEQDYS-iZs",
        "outputId": "60bf7633-64e4-46a5-cbba-935a73516842"
      },
      "outputs": [
        {
          "output_type": "execute_result",
          "data": {
            "text/plain": [
              "1"
            ]
          },
          "metadata": {},
          "execution_count": 36
        }
      ],
      "source": [
        "10%3\n",
        "\n",
        "# Addition +\n",
        "# Subtraction -\n",
        "# Division /\n",
        "\n",
        "# Floating Point Division /\n",
        "\n",
        "#Integer division //\n",
        "# Modulous (remainder) %"
      ]
    },
    {
      "cell_type": "markdown",
      "metadata": {
        "id": "oehRjS18-iZu"
      },
      "source": [
        "In the above cell, notice that there are two steps. The first shows the addition of two numbers (12 & 87), and then the second step shows the division of 99 by 12.\n",
        "\n",
        "Notice that a Notebook automatically returns the last value in a cell.\n",
        "\n",
        "While this works, we also want to be able to store results.\n",
        "\n",
        "To do this, we can assign our values to variables."
      ]
    },
    {
      "cell_type": "markdown",
      "metadata": {
        "id": "1IYE7jvsMHXK"
      },
      "source": [
        "### Variables in Python"
      ]
    },
    {
      "cell_type": "markdown",
      "metadata": {
        "id": "21MLgM9-MHXK"
      },
      "source": [
        "Python variables are containers for storing data values. To create a variable, we first state the name of the variable and then use (`=`) operator to assign values to the variable.\n",
        "\n",
        "*Note: You may use any word to name your variable however there are specific keywords that are reserved in Python that cannot be used as variable names. Please refer [here](https://www.programiz.com/python-programming/keyword-list) for a list of Python's reserved words.*\n",
        "\n",
        "Let's assign our values to variables:"
      ]
    },
    {
      "cell_type": "code",
      "execution_count": null,
      "metadata": {
        "id": "3j2Jdezk-iZv"
      },
      "outputs": [],
      "source": [
        "my_val = 10"
      ]
    },
    {
      "cell_type": "markdown",
      "metadata": {
        "id": "n8gOnYPN-iZy"
      },
      "source": [
        "We can see that the values in our variables are kept across cells:"
      ]
    },
    {
      "cell_type": "code",
      "execution_count": null,
      "metadata": {
        "colab": {
          "base_uri": "https://localhost:8080/"
        },
        "id": "U_noHLc--iZy",
        "outputId": "cd1f0d3f-6956-481c-80f7-d83012bc1cf5"
      },
      "outputs": [
        {
          "output_type": "stream",
          "name": "stdout",
          "text": [
            "10\n"
          ]
        }
      ],
      "source": [
        "print(my_val)"
      ]
    },
    {
      "cell_type": "markdown",
      "metadata": {
        "id": "5tKv1RVI-iZ2"
      },
      "source": [
        "We can treat the variables like we do a value in our calculator's memory - add to it, multiply it, and reassign it:"
      ]
    },
    {
      "cell_type": "code",
      "execution_count": null,
      "metadata": {
        "colab": {
          "base_uri": "https://localhost:8080/"
        },
        "id": "PyAc_0lf-iZ3",
        "outputId": "00da891c-bef8-485d-e288-7e7f7ae30e98"
      },
      "outputs": [
        {
          "output_type": "stream",
          "name": "stdout",
          "text": [
            "15\n",
            "50\n",
            "15\n"
          ]
        }
      ],
      "source": [
        "print(my_val + 5)\n",
        "print(my_val * 5)\n",
        "\n",
        "my_val += 5\n",
        "print(my_val)"
      ]
    },
    {
      "cell_type": "markdown",
      "metadata": {
        "id": "UvjlbRYk-iZ7"
      },
      "source": [
        "As we've seen above, the function `print` displays the arguments it takes in the console.\n",
        "\n",
        "Other functions return us another value or object that we can use:"
      ]
    },
    {
      "cell_type": "code",
      "execution_count": null,
      "metadata": {
        "colab": {
          "base_uri": "https://localhost:8080/"
        },
        "id": "EC6rUtwm-iZ8",
        "outputId": "a6132304-371f-4e37-9c32-8ccff206840f"
      },
      "outputs": [
        {
          "output_type": "execute_result",
          "data": {
            "text/plain": [
              "5"
            ]
          },
          "metadata": {},
          "execution_count": 40
        }
      ],
      "source": [
        "my_new_val = abs(-5)\n",
        "my_new_val"
      ]
    },
    {
      "cell_type": "markdown",
      "metadata": {
        "id": "mdUrva0M-iaA"
      },
      "source": [
        "Now let's move forward into more of the basics. We'll look at the building blocks of both how Python stores data in memory, and how it implements fundamental concepts such as program logic."
      ]
    },
    {
      "cell_type": "markdown",
      "metadata": {
        "id": "YYcTNWTL-iaB"
      },
      "source": [
        "### Lists\n",
        "\n",
        "The basic data container in Python is a **list**. Lists act as a general purpose container for Python objects - they can hold any combination of  different types of data.\n",
        "\n",
        "A *list* is created as an ordered sequence of data enclosed in square brackets, with each element separated by a comma.  For example:"
      ]
    },
    {
      "cell_type": "code",
      "execution_count": null,
      "metadata": {
        "id": "4Y4pTutIETdF"
      },
      "outputs": [],
      "source": [
        "l = [2, 3, 5, 7]"
      ]
    },
    {
      "cell_type": "markdown",
      "metadata": {
        "id": "OZS29R6CETdJ"
      },
      "source": [
        "Lists can contain multiple data types as entries:"
      ]
    },
    {
      "cell_type": "code",
      "execution_count": null,
      "metadata": {
        "id": "YgLLgs55ETdK"
      },
      "outputs": [],
      "source": [
        "m = [10, 'ES', -1.234, True]"
      ]
    },
    {
      "cell_type": "markdown",
      "metadata": {
        "id": "I9umX8N3ETdM"
      },
      "source": [
        "and can even have other lists as entries:"
      ]
    },
    {
      "cell_type": "code",
      "execution_count": null,
      "metadata": {
        "id": "SOHNumoQETdN"
      },
      "outputs": [],
      "source": [
        "J = [21, 5, ['apples', 12, False]]"
      ]
    },
    {
      "cell_type": "markdown",
      "metadata": {
        "id": "HhZNaPdiETdU"
      },
      "source": [
        "You can create an empty list by defining a variable name to brackets ```[]```:"
      ]
    },
    {
      "cell_type": "code",
      "execution_count": null,
      "metadata": {
        "colab": {
          "base_uri": "https://localhost:8080/"
        },
        "id": "EoiNcvweETdU",
        "outputId": "43b75573-a89a-4f01-f6af-57fed317d192"
      },
      "outputs": [
        {
          "output_type": "execute_result",
          "data": {
            "text/plain": [
              "[]"
            ]
          },
          "metadata": {},
          "execution_count": 44
        }
      ],
      "source": [
        "empty_list = []\n",
        "\n",
        "# Calling it will produce the empty list\n",
        "empty_list"
      ]
    },
    {
      "cell_type": "markdown",
      "metadata": {
        "id": "zt_oxpErI42P"
      },
      "source": [
        "Or also using the `list()` function:"
      ]
    },
    {
      "cell_type": "code",
      "execution_count": null,
      "metadata": {
        "colab": {
          "base_uri": "https://localhost:8080/"
        },
        "id": "ChUnaxUhI42P",
        "outputId": "431b5416-ad17-444e-f372-fdb719641243"
      },
      "outputs": [
        {
          "output_type": "execute_result",
          "data": {
            "text/plain": [
              "[]"
            ]
          },
          "metadata": {},
          "execution_count": 45
        }
      ],
      "source": [
        "empty_list2 = list()\n",
        "empty_list2"
      ]
    },
    {
      "cell_type": "markdown",
      "metadata": {
        "id": "RpwwN8cjMHXM"
      },
      "source": [
        "### Indexing in Lists"
      ]
    },
    {
      "cell_type": "markdown",
      "metadata": {
        "id": "t2wL4440ETdb"
      },
      "source": [
        "A list is an ordered sequence of elements. Python will remember the order that the elements appear in with an assigned integer index, and we can slice lists using _indexing_.  We can access individual list elements using the index, with the format ```listname[index_number]```. In Python, 0 points to the first element of a list. We can also slice strings too. Strings are what we see in the lists above -- they are enclosed in quotation marks, (e.g. 'ES' in list `m` and 'apples' in list `J`)."
      ]
    },
    {
      "cell_type": "code",
      "execution_count": null,
      "metadata": {
        "colab": {
          "base_uri": "https://localhost:8080/"
        },
        "id": "pE7knKrh-iaL",
        "outputId": "1f920ae2-1b6e-4df7-a682-0b765e924510"
      },
      "outputs": [
        {
          "output_type": "stream",
          "name": "stdout",
          "text": [
            "21\n",
            "apples\n"
          ]
        }
      ],
      "source": [
        "print(J[0])\n",
        "print(J[2][0])"
      ]
    },
    {
      "cell_type": "markdown",
      "metadata": {
        "id": "HQJ_VK7eETeK"
      },
      "source": [
        "As mentioned, we can nest lists inside of other lists. This allows us to effectively create *matrices* with lists (we'll be speaking more about matrices when we get to the lesson on statistics and linear algebra). In our list of lists, the internal lists represent the *rows* of the matrix. For example, we can represent the matrix:\n",
        "\n",
        "$$ B = \\begin{bmatrix} 1 & 2 \\\\ 0 & 4 \\end{bmatrix} $$\n",
        "\n",
        "as:"
      ]
    },
    {
      "cell_type": "code",
      "execution_count": null,
      "metadata": {
        "id": "aLvw_BsMETeL"
      },
      "outputs": [],
      "source": [
        "B = [[1, 2], [0, 4]]"
      ]
    },
    {
      "cell_type": "markdown",
      "metadata": {
        "id": "MGDUNI49ETeP"
      },
      "source": [
        "The element $2$ in the matrix $B$ is in the first row, second column.  How would we retrieve that from the list object `B` using indices?"
      ]
    },
    {
      "cell_type": "code",
      "execution_count": null,
      "metadata": {
        "colab": {
          "base_uri": "https://localhost:8080/"
        },
        "id": "6f0SKD0XETeQ",
        "outputId": "1469da6f-dd04-4877-f78b-cacf0122bbef"
      },
      "outputs": [
        {
          "output_type": "execute_result",
          "data": {
            "text/plain": [
              "2"
            ]
          },
          "metadata": {},
          "execution_count": 48
        }
      ],
      "source": [
        "B[0][1]"
      ]
    },
    {
      "cell_type": "markdown",
      "metadata": {
        "id": "JjVXFVpk-ibB"
      },
      "source": [
        "### 0 vs 1 indexing\n",
        "\n",
        "Python is a 0 indexed language. This means if we want the first object in a list, I need to tell Python that I want the 0th object. R, Matlab, Mathematica, and some other programming languages are 1 indexed, where the first item in an array is array[1], as that is how humans have counted for thousands of years. 0 indexed languages are more common, and have an obscure history - in fact, there are even claims that it is due to yacht racing in the 1960s.\n",
        "\n",
        "Off-by-one errors are one of the most common bugs in computing - and a little bit of UX/UI consideration might have significantly reduced them. Some of your instructors switch between two languages: Python and R.  Python is 0 indexed and R is 1 indexed - keep and eye out for these errors.\n",
        "\n",
        "As well as indexing individual elements, we can take slices using a `:`, to indicate a range of elements to return."
      ]
    },
    {
      "cell_type": "markdown",
      "metadata": {
        "id": "Uzby_THcETeU"
      },
      "source": [
        "### Slicing list elements\n",
        "If we wanted to access a slice of list elements, we would use the same syntax for slicing string elements:  for a given list `l`, to slice out the elements from index `n` up to (but not including) index `m`, we would write:<br>\n",
        "`l[n:m]`<br>\n",
        "As an example, if we consider the following list:"
      ]
    },
    {
      "cell_type": "code",
      "execution_count": null,
      "metadata": {
        "id": "ouq_d5LDETeV"
      },
      "outputs": [],
      "source": [
        "sl = ['apples', 'pears', 'oranges', 'cherries', 'grapefruits', 'pomegranates']"
      ]
    },
    {
      "cell_type": "markdown",
      "metadata": {
        "id": "korDuF_jETeY"
      },
      "source": [
        "and wanted elements 1 through 3, we would slice:"
      ]
    },
    {
      "cell_type": "code",
      "execution_count": null,
      "metadata": {
        "colab": {
          "base_uri": "https://localhost:8080/"
        },
        "id": "wnS-X2lNETea",
        "outputId": "3119bc7b-078b-4e03-82b4-209b3000f467"
      },
      "outputs": [
        {
          "output_type": "execute_result",
          "data": {
            "text/plain": [
              "['pears', 'oranges', 'cherries']"
            ]
          },
          "metadata": {},
          "execution_count": 50
        }
      ],
      "source": [
        "sl[1:4]"
      ]
    },
    {
      "cell_type": "markdown",
      "metadata": {
        "id": "sSsIAEqLETed"
      },
      "source": [
        "Leaving the first and/or last index call blank will make Python assume you mean \"from the beginning\" or \"to the end\".  "
      ]
    },
    {
      "cell_type": "code",
      "execution_count": null,
      "metadata": {
        "colab": {
          "base_uri": "https://localhost:8080/"
        },
        "id": "B7sfZdkTETee",
        "outputId": "d85d4e14-17a7-4dc6-b3b8-6dfef93e45f8"
      },
      "outputs": [
        {
          "output_type": "execute_result",
          "data": {
            "text/plain": [
              "['oranges', 'cherries', 'grapefruits', 'pomegranates']"
            ]
          },
          "metadata": {},
          "execution_count": 51
        }
      ],
      "source": [
        "sl[2:]"
      ]
    },
    {
      "cell_type": "markdown",
      "metadata": {
        "id": "L7-Py8YnETeg"
      },
      "source": [
        "This slices from element 2 until the end.<br>\n",
        "\n",
        "We can use the step feature as well, with a second colon:"
      ]
    },
    {
      "cell_type": "code",
      "execution_count": null,
      "metadata": {
        "colab": {
          "base_uri": "https://localhost:8080/"
        },
        "id": "jkKJYeqQETei",
        "outputId": "847687e3-3b81-45f5-ed59-c37f354f6af6"
      },
      "outputs": [
        {
          "output_type": "execute_result",
          "data": {
            "text/plain": [
              "['pears', 'cherries', 'pomegranates']"
            ]
          },
          "metadata": {},
          "execution_count": 52
        }
      ],
      "source": [
        "sl[1::2]"
      ]
    },
    {
      "cell_type": "markdown",
      "metadata": {
        "id": "h-1sncaXETek"
      },
      "source": [
        "This slice starts from element 1 goes until the end, only returning every second item.\n",
        "\n",
        "So far we've been accessing list elements by index, but what if we want to find out what the index is of a particular list element? (Particularly handy if we have very long lists.)  We accomplish this using the ```index()``` command, with the syntax ```listname.index(element_name)```.  If we wanted to know what the index of ```'cherries'``` from the list ```sl``` is, we would write:"
      ]
    },
    {
      "cell_type": "code",
      "execution_count": null,
      "metadata": {
        "colab": {
          "base_uri": "https://localhost:8080/"
        },
        "id": "B-I4VfyiETel",
        "outputId": "1257d994-e92c-4f7f-e320-f99af3f0bd88"
      },
      "outputs": [
        {
          "output_type": "execute_result",
          "data": {
            "text/plain": [
              "3"
            ]
          },
          "metadata": {},
          "execution_count": 53
        }
      ],
      "source": [
        "sl.index('cherries') #where is cherries in list sl"
      ]
    },
    {
      "cell_type": "markdown",
      "metadata": {
        "id": "K9t3D2bcETeo"
      },
      "source": [
        "One issue with this is that it will only return the index of the *first* occurrence of the item you ask for."
      ]
    },
    {
      "cell_type": "code",
      "execution_count": null,
      "metadata": {
        "colab": {
          "base_uri": "https://localhost:8080/"
        },
        "id": "aEOfV0iNETeo",
        "outputId": "823d763c-30e3-41c5-a3dd-c6324297bf26"
      },
      "outputs": [
        {
          "output_type": "execute_result",
          "data": {
            "text/plain": [
              "2"
            ]
          },
          "metadata": {},
          "execution_count": 54
        }
      ],
      "source": [
        "repeat = [14, 15, 16, 16, 17]\n",
        "repeat.index(16)"
      ]
    },
    {
      "cell_type": "markdown",
      "metadata": {
        "id": "Tho55_piMHXS"
      },
      "source": [
        "---\n",
        "\n",
        "#### Exercise 1\n",
        "\n",
        "Write a code that would give a list of all of the indices of the occurrences of 16 in the *input* list.\n",
        "\n",
        "Save the new list in a variable called *repeat*.\n",
        "\n",
        "```\n",
        "input = [1, 16, 16, 0, 9, 'lucky', 34, 3, 16]\n",
        "```\n",
        "---\n"
      ]
    },
    {
      "cell_type": "code",
      "execution_count": null,
      "metadata": {
        "id": "W7Vn8LE0ETeq",
        "colab": {
          "base_uri": "https://localhost:8080/"
        },
        "outputId": "321bb096-b632-4274-9c58-e19df28a167d"
      },
      "outputs": [
        {
          "output_type": "stream",
          "name": "stdout",
          "text": [
            "[1, 2, 8]\n"
          ]
        }
      ],
      "source": [
        "input = [1, 16, 16, 0, 9, 'lucky', 34, 3, 16]\n",
        "\n",
        "# First occurrence\n",
        "first = input.index(16)\n",
        "\n",
        "# Second occurrence: slice after first and add offset\n",
        "second = input[first + 1:].index(16) + first + 1\n",
        "\n",
        "# Third occurrence: slice after second and add offset\n",
        "third = input[second + 1:].index(16) + second + 1\n",
        "\n",
        "repeat = [first, second, third]\n",
        "\n",
        "print(repeat)"
      ]
    },
    {
      "cell_type": "markdown",
      "metadata": {
        "id": "ONZg9hcxETeu"
      },
      "source": [
        "### Replacing and adding list elements\n",
        "\n",
        "We access a list element by calling ```listname[index_number]```, but we can also use this syntax to redefine list elements.  If we use the list ```l``` above, and wanted to replace the second element with the string ```'lantern'```, we would write:"
      ]
    },
    {
      "cell_type": "code",
      "execution_count": null,
      "metadata": {
        "colab": {
          "base_uri": "https://localhost:8080/"
        },
        "id": "cRfGRIzzETev",
        "outputId": "ffefd5d7-f025-4a6a-9f01-bab95d4fdf40"
      },
      "outputs": [
        {
          "output_type": "execute_result",
          "data": {
            "text/plain": [
              "[2, 'lantern', 5, 7]"
            ]
          },
          "metadata": {},
          "execution_count": 56
        }
      ],
      "source": [
        "l[1] = 'lantern'\n",
        "l"
      ]
    },
    {
      "cell_type": "markdown",
      "metadata": {
        "id": "cvTzfI6rETez"
      },
      "source": [
        "This is the same syntax we use for defining a variable.  But what if we wanted to add something new to the list?  There are a few options here:\n",
        "1. We can use Python's `append` command to tack on whatever we want to the end of the list.  This operation is performed \"in place\", meaning our list is redefined to be a list with all of our old elements, and then with the new element at the end.\n",
        "2. We can concatenate two lists together using `+`, i.e.: we can define a new list which is the old list + another list containing the new element(s) we want added."
      ]
    },
    {
      "cell_type": "code",
      "execution_count": null,
      "metadata": {
        "colab": {
          "base_uri": "https://localhost:8080/"
        },
        "id": "LofrEGf8ETe0",
        "outputId": "223efc5f-f1f6-4c35-a3b9-1d06aa8ce0bf"
      },
      "outputs": [
        {
          "output_type": "execute_result",
          "data": {
            "text/plain": [
              "[1, 2, 3, 4, 5]"
            ]
          },
          "metadata": {},
          "execution_count": 57
        }
      ],
      "source": [
        "l = [1, 2, 3, 4]\n",
        "\n",
        "l.append(5)\n",
        "l"
      ]
    },
    {
      "cell_type": "code",
      "execution_count": null,
      "metadata": {
        "colab": {
          "base_uri": "https://localhost:8080/"
        },
        "id": "2ZIzNqUYETe5",
        "outputId": "9fec8595-67a2-45d5-c75a-841f970e99f1"
      },
      "outputs": [
        {
          "output_type": "execute_result",
          "data": {
            "text/plain": [
              "[1, 2, 3, 4, 5]"
            ]
          },
          "metadata": {},
          "execution_count": 58
        }
      ],
      "source": [
        "m = [1, 2, 3, 4]\n",
        "newlist = m + [5]\n",
        "newlist"
      ]
    },
    {
      "cell_type": "markdown",
      "metadata": {
        "id": "14alLuqcETe9"
      },
      "source": [
        "It's important to remember that the element `5` we're adding to the list must itself be in a list.  If we tried to just add the number 5, we get the error message:"
      ]
    },
    {
      "cell_type": "code",
      "execution_count": null,
      "metadata": {
        "colab": {
          "base_uri": "https://localhost:8080/",
          "height": 141
        },
        "id": "9AoVfuSWETe9",
        "outputId": "707355ff-f702-4731-8bb7-92883cf230f3"
      },
      "outputs": [
        {
          "output_type": "error",
          "ename": "TypeError",
          "evalue": "can only concatenate list (not \"int\") to list",
          "traceback": [
            "\u001b[0;31m---------------------------------------------------------------------------\u001b[0m",
            "\u001b[0;31mTypeError\u001b[0m                                 Traceback (most recent call last)",
            "\u001b[0;32m/tmp/ipython-input-59-3790461708.py\u001b[0m in \u001b[0;36m<cell line: 0>\u001b[0;34m()\u001b[0m\n\u001b[0;32m----> 1\u001b[0;31m \u001b[0mm\u001b[0m\u001b[0;34m+\u001b[0m\u001b[0;36m5\u001b[0m\u001b[0;34m\u001b[0m\u001b[0;34m\u001b[0m\u001b[0m\n\u001b[0m",
            "\u001b[0;31mTypeError\u001b[0m: can only concatenate list (not \"int\") to list"
          ]
        }
      ],
      "source": [
        "m+5"
      ]
    },
    {
      "cell_type": "markdown",
      "metadata": {
        "id": "RSVur2opETe_"
      },
      "source": [
        "We can also concatenate copies of a list onto itself a set number of times by using `*`:"
      ]
    },
    {
      "cell_type": "code",
      "execution_count": null,
      "metadata": {
        "id": "jVcGwb4RETe_",
        "colab": {
          "base_uri": "https://localhost:8080/"
        },
        "outputId": "d282bfe0-a611-4578-d86a-45296064da7a"
      },
      "outputs": [
        {
          "output_type": "execute_result",
          "data": {
            "text/plain": [
              "[1, 2, 3, 4, 1, 2, 3, 4, 1, 2, 3, 4]"
            ]
          },
          "metadata": {},
          "execution_count": 60
        }
      ],
      "source": [
        "m * 3"
      ]
    },
    {
      "cell_type": "markdown",
      "metadata": {
        "id": "Laud58LYETfB"
      },
      "source": [
        "This is especially handy when you want a list of size `n` that all contain the same element.  For example, if we wanted a list of all 1s, whose length was 50, we could easily write:"
      ]
    },
    {
      "cell_type": "code",
      "execution_count": null,
      "metadata": {
        "colab": {
          "base_uri": "https://localhost:8080/"
        },
        "id": "jEwOM93EETfC",
        "outputId": "5fb7558b-9c4b-47da-d64a-ff930bf5d016"
      },
      "outputs": [
        {
          "output_type": "stream",
          "name": "stdout",
          "text": [
            "[1, 1, 1, 1, 1, 1, 1, 1, 1, 1, 1, 1, 1, 1, 1, 1, 1, 1, 1, 1, 1, 1, 1, 1, 1, 1, 1, 1, 1, 1, 1, 1, 1, 1, 1, 1, 1, 1, 1, 1, 1, 1, 1, 1, 1, 1, 1, 1, 1, 1]\n"
          ]
        }
      ],
      "source": [
        "ones = [1]*50\n",
        "print(ones)"
      ]
    },
    {
      "cell_type": "markdown",
      "metadata": {
        "id": "3YAI_sk5MHXS"
      },
      "source": [
        "---\n",
        "\n",
        "#### Exercise 2\n",
        "\n",
        "1. Expand our list sl to include kiwis, pineapples, grapes, and tomatoes.\n",
        "\n",
        "```\n",
        "sl = ['apples', 'pears', 'oranges', 'cherries', 'grapefruits', 'pomegranates']\n",
        "```\n",
        "\n",
        "2. Expand list a shown below to include all of the items in list b. Try to do this in one step. Look up and see if there is a function that can help with this operation.\n",
        "\n",
        "```\n",
        "a = [1,2,3,4]\n",
        "b = ['a', 'b', 'c', 'd']\n",
        "```\n",
        "---\n"
      ]
    },
    {
      "cell_type": "code",
      "source": [
        "a = [1,2,3,4]\n",
        "b = ['a', 'b', 'c', 'd']\n",
        "a += b\n",
        "a"
      ],
      "metadata": {
        "colab": {
          "base_uri": "https://localhost:8080/"
        },
        "id": "Tjs2Vd0rZnmR",
        "outputId": "d91bac2a-f83d-4328-ed43-37e1d0702de3"
      },
      "execution_count": null,
      "outputs": [
        {
          "output_type": "execute_result",
          "data": {
            "text/plain": [
              "[1, 2, 3, 4, 'a', 'b', 'c', 'd']"
            ]
          },
          "metadata": {},
          "execution_count": 65
        }
      ]
    },
    {
      "cell_type": "code",
      "source": [
        "a = [1, 2, 3, 4]\n",
        "b = ['a', 'b', 'c', 'd']\n",
        "a + b"
      ],
      "metadata": {
        "colab": {
          "base_uri": "https://localhost:8080/"
        },
        "id": "MT0lae33Zr55",
        "outputId": "ad866235-fd30-423a-b174-39b304e8c54d"
      },
      "execution_count": null,
      "outputs": [
        {
          "output_type": "execute_result",
          "data": {
            "text/plain": [
              "[1, 2, 3, 4, 'a', 'b', 'c', 'd']"
            ]
          },
          "metadata": {},
          "execution_count": 66
        }
      ]
    },
    {
      "cell_type": "markdown",
      "source": [],
      "metadata": {
        "id": "JPmm0NhpZnWi"
      }
    },
    {
      "cell_type": "code",
      "execution_count": null,
      "metadata": {
        "id": "nojsMxxsETfF",
        "colab": {
          "base_uri": "https://localhost:8080/"
        },
        "outputId": "fbae7637-76ae-4a15-d6f8-8c9f55de5984"
      },
      "outputs": [
        {
          "output_type": "execute_result",
          "data": {
            "text/plain": [
              "['apples',\n",
              " 'pears',\n",
              " 'oranges',\n",
              " 'cherries',\n",
              " 'grapefruits',\n",
              " 'pomegranates',\n",
              " 'kiwis',\n",
              " 'pineapples',\n",
              " 'grapes',\n",
              " 'tomatoes']"
            ]
          },
          "metadata": {},
          "execution_count": 63
        }
      ],
      "source": [
        "# Part 1\n",
        "sl = ['apples', 'pears', 'oranges', 'cherries', 'grapefruits', 'pomegranates']\n",
        "sl += ['kiwis', 'pineapples', 'grapes', 'tomatoes']\n",
        "sl"
      ]
    },
    {
      "cell_type": "code",
      "source": [
        "sl = ['apples', 'pears', 'oranges', 'cherries', 'grapefruits', 'pomegranates']\n",
        "sl.append('kiwis')\n",
        "sl.append('pineapples')\n",
        "sl.append('grapes')\n",
        "sl.append('tomatoes')\n",
        "print(sl)"
      ],
      "metadata": {
        "colab": {
          "base_uri": "https://localhost:8080/"
        },
        "id": "sJ2cOu-yZNjG",
        "outputId": "45ca7c87-af9b-4294-e320-67b7f56328b0"
      },
      "execution_count": null,
      "outputs": [
        {
          "output_type": "stream",
          "name": "stdout",
          "text": [
            "['apples', 'pears', 'oranges', 'cherries', 'grapefruits', 'pomegranates', 'kiwis', 'pineapples', 'grapes', 'tomatoes']\n"
          ]
        }
      ]
    },
    {
      "cell_type": "markdown",
      "source": [],
      "metadata": {
        "id": "iwiskeHLZKQJ"
      }
    },
    {
      "cell_type": "markdown",
      "metadata": {
        "id": "PDE6QjFFETfh"
      },
      "source": [
        "### List sorting\n",
        "\n",
        "The order of elements in a list matters, but what if it's not in the order we want it?  Python comes with a few list sorting options, that usually follows alphabetical or numerical rules.  For Python 3, the common tool is the ```sorted()``` function.  If we pass a list of comparable elements (can we compare strings and numbers?), it will produce a list in numerical or alphabetical order."
      ]
    },
    {
      "cell_type": "code",
      "execution_count": null,
      "metadata": {
        "colab": {
          "base_uri": "https://localhost:8080/"
        },
        "id": "PVg__pdKETfi",
        "outputId": "26712a14-5fc3-4e2a-bae1-16a3337ec023"
      },
      "outputs": [
        {
          "output_type": "execute_result",
          "data": {
            "text/plain": [
              "[-5, 2, 3, 5, 7, 10]"
            ]
          },
          "metadata": {},
          "execution_count": 67
        }
      ],
      "source": [
        "ln = [2, -5, 10, 7, 3, 5]\n",
        "\n",
        "sorted(ln)"
      ]
    },
    {
      "cell_type": "code",
      "execution_count": null,
      "metadata": {
        "colab": {
          "base_uri": "https://localhost:8080/"
        },
        "id": "XeHScTobETfl",
        "outputId": "0d27f8d3-eb1a-4d1d-b6fa-af4eb79c4d43"
      },
      "outputs": [
        {
          "output_type": "execute_result",
          "data": {
            "text/plain": [
              "['apples', 'cherries', 'grapefruits', 'oranges', 'pears', 'pomegranates']"
            ]
          },
          "metadata": {},
          "execution_count": 68
        }
      ],
      "source": [
        "lm = ['apples', 'pears', 'oranges', 'cherries', 'grapefruits', 'pomegranates']\n",
        "\n",
        "sorted(lm)"
      ]
    },
    {
      "cell_type": "code",
      "execution_count": null,
      "metadata": {
        "colab": {
          "base_uri": "https://localhost:8080/"
        },
        "id": "zj3EJI5zJRFQ",
        "outputId": "af685e4f-4970-4162-bb6c-c6446a96f6f1"
      },
      "outputs": [
        {
          "output_type": "execute_result",
          "data": {
            "text/plain": [
              "['apples', 'pears', 'oranges', 'cherries', 'grapefruits', 'pomegranates']"
            ]
          },
          "metadata": {},
          "execution_count": 69
        }
      ],
      "source": [
        "lm"
      ]
    },
    {
      "cell_type": "markdown",
      "metadata": {
        "id": "dtKTFcZdI42Y"
      },
      "source": [
        "We can also call `.sort()` on a list directly, which operates in place:"
      ]
    },
    {
      "cell_type": "code",
      "execution_count": null,
      "metadata": {
        "colab": {
          "base_uri": "https://localhost:8080/"
        },
        "id": "p8MNmHw2I42Y",
        "outputId": "0adb8a27-c39b-47ab-f47c-94d738d02d50"
      },
      "outputs": [
        {
          "output_type": "execute_result",
          "data": {
            "text/plain": [
              "['apples', 'cherries', 'grapefruits', 'oranges', 'pears', 'pomegranates']"
            ]
          },
          "metadata": {},
          "execution_count": 70
        }
      ],
      "source": [
        "lm.sort()\n",
        "lm"
      ]
    },
    {
      "cell_type": "markdown",
      "metadata": {
        "id": "aeU4n5-rMHXT"
      },
      "source": [
        "---\n",
        "\n",
        "#### Exercise 3\n",
        "\n",
        "1. What would happen if we tried to sort the following two lists?\n",
        "\n",
        "```\n",
        "test1 = [1, 3, 0, True, 10, 3.5, False]\n",
        "test2 = [1, '2', 3, '4', 5, 'A']\n",
        "\n",
        "```\n",
        "\n",
        "---\n"
      ]
    },
    {
      "cell_type": "code",
      "execution_count": null,
      "metadata": {
        "id": "05DwSqC5ETfl",
        "colab": {
          "base_uri": "https://localhost:8080/",
          "height": 193
        },
        "outputId": "808c9095-c922-4666-c27e-bf4025b1ce7e"
      },
      "outputs": [
        {
          "output_type": "error",
          "ename": "TypeError",
          "evalue": "'<' not supported between instances of 'str' and 'int'",
          "traceback": [
            "\u001b[0;31m---------------------------------------------------------------------------\u001b[0m",
            "\u001b[0;31mTypeError\u001b[0m                                 Traceback (most recent call last)",
            "\u001b[0;32m/tmp/ipython-input-75-2228185641.py\u001b[0m in \u001b[0;36m<cell line: 0>\u001b[0;34m()\u001b[0m\n\u001b[1;32m      5\u001b[0m \u001b[0mtest1\u001b[0m\u001b[0;34m\u001b[0m\u001b[0;34m\u001b[0m\u001b[0m\n\u001b[1;32m      6\u001b[0m \u001b[0;34m\u001b[0m\u001b[0m\n\u001b[0;32m----> 7\u001b[0;31m \u001b[0mtest2\u001b[0m\u001b[0;34m.\u001b[0m\u001b[0msort\u001b[0m\u001b[0;34m(\u001b[0m\u001b[0;34m)\u001b[0m\u001b[0;34m\u001b[0m\u001b[0;34m\u001b[0m\u001b[0m\n\u001b[0m\u001b[1;32m      8\u001b[0m \u001b[0mtest2\u001b[0m\u001b[0;34m\u001b[0m\u001b[0;34m\u001b[0m\u001b[0m\n",
            "\u001b[0;31mTypeError\u001b[0m: '<' not supported between instances of 'str' and 'int'"
          ]
        }
      ],
      "source": [
        "test1 = [1, 3, 0, True, 10, 3.5, False]\n",
        "test2 = [1, '2', 3, '4', 5, 'A']\n",
        "\n",
        "test1.sort()\n",
        "test1\n",
        "\n",
        "test2.sort()\n",
        "test2\n"
      ]
    },
    {
      "cell_type": "markdown",
      "metadata": {
        "id": "UvGAS57O-iaN"
      },
      "source": [
        "### Mutability\n",
        "\n",
        "Lists are mutable, meaning that we can change objects. We need to be careful when assigning lists to variables. By default, Python does not copy the list, but instead points to the same list in memory:"
      ]
    },
    {
      "cell_type": "code",
      "execution_count": null,
      "metadata": {
        "colab": {
          "base_uri": "https://localhost:8080/"
        },
        "id": "R2_oZrkD-iaP",
        "outputId": "0d10e0a4-91a0-45eb-ed19-6b7697caff98"
      },
      "outputs": [
        {
          "output_type": "stream",
          "name": "stdout",
          "text": [
            "[1, 5, 3]\n",
            "[1, 5, 3]\n"
          ]
        }
      ],
      "source": [
        "my_list = [1, 2, 3]\n",
        "a = my_list\n",
        "my_list[1] = 5\n",
        "print(my_list)\n",
        "print(a)"
      ]
    },
    {
      "cell_type": "markdown",
      "metadata": {
        "id": "Lxc2o5FN-iaT"
      },
      "source": [
        "Some objects are immutable, meaning they cannot be modified. Strings have this property:"
      ]
    },
    {
      "cell_type": "code",
      "execution_count": null,
      "metadata": {
        "colab": {
          "base_uri": "https://localhost:8080/",
          "height": 159
        },
        "id": "BiOoLewX-iaU",
        "outputId": "cf5ac9ad-61e3-4011-a476-f5afcc86df27"
      },
      "outputs": [
        {
          "output_type": "error",
          "ename": "TypeError",
          "evalue": "'str' object does not support item assignment",
          "traceback": [
            "\u001b[0;31m---------------------------------------------------------------------------\u001b[0m",
            "\u001b[0;31mTypeError\u001b[0m                                 Traceback (most recent call last)",
            "\u001b[0;32m/tmp/ipython-input-77-1638763837.py\u001b[0m in \u001b[0;36m<cell line: 0>\u001b[0;34m()\u001b[0m\n\u001b[1;32m      1\u001b[0m \u001b[0mmy_str\u001b[0m \u001b[0;34m=\u001b[0m \u001b[0;34m'mom'\u001b[0m\u001b[0;34m\u001b[0m\u001b[0;34m\u001b[0m\u001b[0m\n\u001b[0;32m----> 2\u001b[0;31m \u001b[0mmy_str\u001b[0m\u001b[0;34m[\u001b[0m\u001b[0;36m1\u001b[0m\u001b[0;34m]\u001b[0m \u001b[0;34m=\u001b[0m \u001b[0;34m'd'\u001b[0m\u001b[0;34m\u001b[0m\u001b[0;34m\u001b[0m\u001b[0m\n\u001b[0m",
            "\u001b[0;31mTypeError\u001b[0m: 'str' object does not support item assignment"
          ]
        }
      ],
      "source": [
        "my_str = 'mom'\n",
        "my_str[1] = 'd'"
      ]
    },
    {
      "cell_type": "markdown",
      "metadata": {
        "id": "muApZcAx-iad"
      },
      "source": [
        "As we saw, we can add to lists, using the append method. Be aware, methods on mutable objects will often operate in place. There are many more list methods we will cover as we continue - you can take a look using tab completion in notebooks.\n",
        "\n",
        "This means we don't have to reassign the object, but also that we have side effects, as we saw above:"
      ]
    },
    {
      "cell_type": "code",
      "execution_count": null,
      "metadata": {
        "colab": {
          "base_uri": "https://localhost:8080/"
        },
        "id": "hItq9w3j-iaf",
        "outputId": "2117c751-5a58-444d-bb8b-d0ebbbc95c5c"
      },
      "outputs": [
        {
          "output_type": "stream",
          "name": "stdout",
          "text": [
            "None\n",
            "[1, 2, 3, 4]\n"
          ]
        }
      ],
      "source": [
        "mylist = [1, 2, 3]\n",
        "mylist2 = mylist.append(4)\n",
        "\n",
        "print(mylist2)  # huh, None\n",
        "print(mylist)"
      ]
    }
  ],
  "metadata": {
    "colab": {
      "collapsed_sections": [
        "JjVXFVpk-ibB"
      ],
      "provenance": [],
      "include_colab_link": true
    },
    "kernelspec": {
      "display_name": "Python 3 (ipykernel)",
      "language": "python",
      "name": "python3"
    },
    "language_info": {
      "codemirror_mode": {
        "name": "ipython",
        "version": 3
      },
      "file_extension": ".py",
      "mimetype": "text/x-python",
      "name": "python",
      "nbconvert_exporter": "python",
      "pygments_lexer": "ipython3",
      "version": "3.12.4"
    }
  },
  "nbformat": 4,
  "nbformat_minor": 0
}